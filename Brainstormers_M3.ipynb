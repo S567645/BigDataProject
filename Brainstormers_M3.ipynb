{
 "cells": [
  {
   "cell_type": "code",
   "execution_count": 20,
   "id": "63b1b984-4791-4616-96c3-5f88244834e4",
   "metadata": {},
   "outputs": [
    {
     "name": "stdout",
     "output_type": "stream",
     "text": [
      "root\n",
      " |-- fraud_bool: integer (nullable = true)\n",
      " |-- income: double (nullable = true)\n",
      " |-- name_email_similarity: double (nullable = true)\n",
      " |-- prev_address_months_count: integer (nullable = true)\n",
      " |-- current_address_months_count: integer (nullable = true)\n",
      " |-- customer_age: integer (nullable = true)\n",
      " |-- days_since_request: double (nullable = true)\n",
      " |-- intended_balcon_amount: double (nullable = true)\n",
      " |-- payment_type: string (nullable = true)\n",
      " |-- zip_count_4w: integer (nullable = true)\n",
      " |-- velocity_6h: double (nullable = true)\n",
      " |-- velocity_24h: double (nullable = true)\n",
      " |-- velocity_4w: double (nullable = true)\n",
      " |-- bank_branch_count_8w: integer (nullable = true)\n",
      " |-- date_of_birth_distinct_emails_4w: integer (nullable = true)\n",
      " |-- employment_status: string (nullable = true)\n",
      " |-- credit_risk_score: integer (nullable = true)\n",
      " |-- email_is_free: integer (nullable = true)\n",
      " |-- housing_status: string (nullable = true)\n",
      " |-- phone_home_valid: integer (nullable = true)\n",
      " |-- phone_mobile_valid: integer (nullable = true)\n",
      " |-- bank_months_count: integer (nullable = true)\n",
      " |-- has_other_cards: integer (nullable = true)\n",
      " |-- proposed_credit_limit: double (nullable = true)\n",
      " |-- foreign_request: integer (nullable = true)\n",
      " |-- source: string (nullable = true)\n",
      " |-- session_length_in_minutes: double (nullable = true)\n",
      " |-- device_os: string (nullable = true)\n",
      " |-- keep_alive_session: integer (nullable = true)\n",
      " |-- device_distinct_emails_8w: integer (nullable = true)\n",
      " |-- device_fraud_count: integer (nullable = true)\n",
      " |-- month: integer (nullable = true)\n",
      "\n",
      "+----------+------------------+---------------------+-------------------------+----------------------------+------------+------------------+----------------------+------------+------------+------------------+-----------------+------------------+--------------------+--------------------------------+-----------------+-----------------+-------------+--------------+----------------+------------------+-----------------+---------------+---------------------+---------------+--------+-------------------------+---------+------------------+-------------------------+------------------+-----+\n",
      "|fraud_bool|            income|name_email_similarity|prev_address_months_count|current_address_months_count|customer_age|days_since_request|intended_balcon_amount|payment_type|zip_count_4w|       velocity_6h|     velocity_24h|       velocity_4w|bank_branch_count_8w|date_of_birth_distinct_emails_4w|employment_status|credit_risk_score|email_is_free|housing_status|phone_home_valid|phone_mobile_valid|bank_months_count|has_other_cards|proposed_credit_limit|foreign_request|  source|session_length_in_minutes|device_os|keep_alive_session|device_distinct_emails_8w|device_fraud_count|month|\n",
      "+----------+------------------+---------------------+-------------------------+----------------------------+------------+------------------+----------------------+------------+------------+------------------+-----------------+------------------+--------------------+--------------------------------+-----------------+-----------------+-------------+--------------+----------------+------------------+-----------------+---------------+---------------------+---------------+--------+-------------------------+---------+------------------+-------------------------+------------------+-----+\n",
      "|         0|               0.3|    0.986506310633034|                       -1|                          25|          40|0.0067353870811739|    102.45371092469456|          AA|        1059|13096.035018400871|7850.955007125409| 6742.080561007602|                   5|                               5|               CB|              163|            1|            BC|               0|                 1|                9|              0|               1500.0|              0|INTERNET|       16.224843433978073|    linux|                 1|                        1|                 0|    0|\n",
      "|         0|               0.8|   0.6174260062650061|                       -1|                          89|          20| 0.010095097878573|   -0.8495509687507287|          AD|        1658| 9223.283430930423|5745.251480643791|5941.6648588359885|                   3|                              18|               CA|              154|            1|            BC|               1|                 1|                2|              0|               1500.0|              0|INTERNET|         3.36385371062431|    other|                 1|                        1|                 0|    0|\n",
      "|         0|               0.8|   0.9967070206409232|                        9|                          14|          40|0.0123163495250501|   -1.4903855214855013|          AB|        1095| 4471.472148765561|5471.988958014066| 5992.555113248597|                  15|                              11|               CA|               89|            1|            BC|               0|                 1|               30|              0|                200.0|              0|INTERNET|        22.73055923496224|  windows|                 0|                        1|                 0|    0|\n",
      "|         0|0.6000000000000001|   0.4750999462380287|                       11|                          14|          30|0.0069908306305029|   -1.8631006767118188|          AB|        3483|14431.993621381194| 6755.34447929092| 5970.336830507939|                  11|                              13|               CA|               90|            1|            BC|               0|                 1|                1|              0|                200.0|              0|INTERNET|       15.215816122068803|    linux|                 1|                        1|                 0|    0|\n",
      "|         0|               0.9|   0.8423068370138775|                       -1|                          29|          40| 5.742625847255586|    47.152497798787614|          AA|        2339| 7601.511579253147|5124.046929628144| 5940.734211620649|                   1|                               6|               CA|               91|            0|            BC|               1|                 1|               26|              0|                200.0|              0|INTERNET|        3.743047928033851|    other|                 0|                        1|                 0|    0|\n",
      "+----------+------------------+---------------------+-------------------------+----------------------------+------------+------------------+----------------------+------------+------------+------------------+-----------------+------------------+--------------------+--------------------------------+-----------------+-----------------+-------------+--------------+----------------+------------------+-----------------+---------------+---------------------+---------------+--------+-------------------------+---------+------------------+-------------------------+------------------+-----+\n",
      "only showing top 5 rows\n",
      "\n"
     ]
    }
   ],
   "source": [
    "from pyspark.sql import SparkSession\n",
    "from pyspark.sql.functions import col\n",
    "\n",
    "# Initialize Spark session\n",
    "spark = SparkSession.builder.appName(\"project\").getOrCreate()\n",
    "\n",
    "# Load the dataset\n",
    "df = spark.read.csv(\"Base.csv\", header=True, inferSchema=True)\n",
    "\n",
    "# Show initial rows\n",
    "#df.show(20)\n",
    "\n",
    "# Handling missing values by filling with a default value or dropping\n",
    "#df_clean = df.fillna({'amount': 0, 'fraud_label': 0})\n",
    "\n",
    "# Show schema and cleaned data\n",
    "df.printSchema()\n",
    "df.show(5)\n"
   ]
  },
  {
   "cell_type": "code",
   "execution_count": 3,
   "id": "5de8d37a-fa30-446e-af4c-6349c439dafd",
   "metadata": {},
   "outputs": [
    {
     "name": "stdout",
     "output_type": "stream",
     "text": [
      "+----------+------+\n",
      "|fraud_bool| count|\n",
      "+----------+------+\n",
      "|         1| 11029|\n",
      "|         0|988971|\n",
      "+----------+------+\n",
      "\n"
     ]
    }
   ],
   "source": [
    "from pyspark.sql.functions import col\n",
    "\n",
    "# Group by fraud label and count the number of transactions\n",
    "fraud_counts = df.groupBy(\"fraud_bool\").count()\n",
    "\n",
    "fraud_counts.show()\n"
   ]
  },
  {
   "cell_type": "code",
   "execution_count": 9,
   "id": "baa32543-fe62-4d2d-841c-59b92d780901",
   "metadata": {},
   "outputs": [
    {
     "name": "stdout",
     "output_type": "stream",
     "text": [
      "+------------+----------+------+\n",
      "|payment_type|fraud_bool| count|\n",
      "+------------+----------+------+\n",
      "|          AB|         0|366385|\n",
      "|          AA|         0|256885|\n",
      "|          AB|         1|  4169|\n",
      "|          AC|         1|  4209|\n",
      "|          AA|         1|  1364|\n",
      "|          AD|         1|  1286|\n",
      "|          AE|         0|   288|\n",
      "|          AC|         0|247862|\n",
      "|          AD|         0|117551|\n",
      "|          AE|         1|     1|\n",
      "+------------+----------+------+\n",
      "\n"
     ]
    }
   ],
   "source": [
    "from pyspark.sql.functions import col\n",
    "\n",
    "# Group by payment_type and fraud_bool to count fraudulent transactions for each payment type\n",
    "fraud_by_payment_type = df.groupBy(\"payment_type\", \"fraud_bool\").count()\n",
    "\n",
    "# Show the results\n",
    "fraud_by_payment_type.show()\n",
    "\n"
   ]
  },
  {
   "cell_type": "code",
   "execution_count": 6,
   "id": "e04f20ca-7275-46c5-a748-18d66389a164",
   "metadata": {},
   "outputs": [
    {
     "name": "stdout",
     "output_type": "stream",
     "text": [
      "+-----------------+-------------------+\n",
      "|employment_status|        avg(income)|\n",
      "+-----------------+-------------------+\n",
      "|               CG| 0.5719646799116999|\n",
      "|               CA| 0.5688723892574412|\n",
      "|               CC| 0.5257481858149258|\n",
      "|               CE|0.41986515665624063|\n",
      "|               CB| 0.6163369200508979|\n",
      "|               CF|0.47423127583230884|\n",
      "|               CD| 0.4344619561119097|\n",
      "+-----------------+-------------------+\n",
      "\n"
     ]
    }
   ],
   "source": [
    "# Group by employment status and calculate average income\n",
    "avg_income_by_status = df.groupBy(\"employment_status\").avg(\"income\")\n",
    "\n",
    "avg_income_by_status.show()\n"
   ]
  },
  {
   "cell_type": "code",
   "execution_count": 7,
   "id": "96010257-792a-4627-a1ff-a49995f32cdf",
   "metadata": {},
   "outputs": [
    {
     "name": "stdout",
     "output_type": "stream",
     "text": [
      "Correlation between fraud and velocity_6h: -0.016892357909054904\n"
     ]
    }
   ],
   "source": [
    "from pyspark.sql.functions import corr\n",
    "\n",
    "# Calculate correlation between fraud_bool and velocity_6h\n",
    "fraud_velocity_corr = df.stat.corr(\"fraud_bool\", \"velocity_6h\")\n",
    "\n",
    "print(f\"Correlation between fraud and velocity_6h: {fraud_velocity_corr}\")\n"
   ]
  },
  {
   "cell_type": "code",
   "execution_count": 16,
   "id": "d7838cef-7c19-49f4-8b64-b43789ae60a6",
   "metadata": {},
   "outputs": [
    {
     "name": "stdout",
     "output_type": "stream",
     "text": [
      "+------------------+----------+------+\n",
      "|            income|fraud_bool| count|\n",
      "+------------------+----------+------+\n",
      "|0.6000000000000001|         0|110990|\n",
      "|               0.3|         0| 50495|\n",
      "|               0.5|         0| 55414|\n",
      "|               0.1|         0|156540|\n",
      "|               0.4|         0| 80767|\n",
      "|0.7000000000000001|         0|104182|\n",
      "|               0.4|         1|   597|\n",
      "|               0.2|         1|   438|\n",
      "|               0.1|         1|   909|\n",
      "|               0.2|         0| 68907|\n",
      "|               0.9|         1|  4791|\n",
      "|0.7000000000000001|         1|   927|\n",
      "|               0.8|         1|  1602|\n",
      "|0.6000000000000001|         1|   983|\n",
      "|               0.3|         1|   338|\n",
      "|               0.5|         1|   444|\n",
      "|               0.8|         0|145048|\n",
      "|               0.9|         0|216628|\n",
      "+------------------+----------+------+\n",
      "\n"
     ]
    }
   ],
   "source": [
    "from pyspark.sql.functions import col\n",
    "\n",
    "# Group by 'income' and 'fraud_bool' to count fraudulent transactions for each income group\n",
    "fraud_by_income = df.groupBy(\"income\", \"fraud_bool\").count()\n",
    "\n",
    "# Show the results\n",
    "fraud_by_income.show()\n",
    "\n"
   ]
  },
  {
   "cell_type": "code",
   "execution_count": 18,
   "id": "5265c7e6-a85b-47aa-819c-6372178c0592",
   "metadata": {},
   "outputs": [
    {
     "name": "stdout",
     "output_type": "stream",
     "text": [
      "+---------+----------+------+\n",
      "|age_group|fraud_bool| count|\n",
      "+---------+----------+------+\n",
      "|    18-30|         0|553494|\n",
      "|      60+|         0| 28472|\n",
      "|    31-40|         0|235836|\n",
      "|    18-30|         1|  3794|\n",
      "|    51-60|         0| 33621|\n",
      "|    31-40|         1|  2876|\n",
      "|      60+|         1|   405|\n",
      "|    41-50|         1|  2805|\n",
      "|    41-50|         0|137548|\n",
      "|    51-60|         1|  1149|\n",
      "+---------+----------+------+\n",
      "\n"
     ]
    }
   ],
   "source": [
    "from pyspark.sql.functions import when, col\n",
    "\n",
    "# Create age groups (e.g., 18-30, 31-40, etc.)\n",
    "df_age_grouped = df.withColumn(\"age_group\", \n",
    "                              when(col(\"customer_age\").between(18, 30), \"18-30\")\n",
    "                              .when(col(\"customer_age\").between(31, 40), \"31-40\")\n",
    "                              .when(col(\"customer_age\").between(41, 50), \"41-50\")\n",
    "                              .when(col(\"customer_age\").between(51, 60), \"51-60\")\n",
    "                              .otherwise(\"60+\"))\n",
    "\n",
    "# Group by age_group and fraud_bool to count fraudulent transactions for each age group\n",
    "fraud_by_age_group = df_age_grouped.groupBy(\"age_group\", \"fraud_bool\").count()\n",
    "\n",
    "# Show the results\n",
    "fraud_by_age_group.show()\n"
   ]
  },
  {
   "cell_type": "code",
   "execution_count": 22,
   "id": "b1b0f954-851b-4112-9633-3441f5f69afe",
   "metadata": {},
   "outputs": [],
   "source": [
    "import os\n",
    "# Create a directory for storing the output files\n",
    "output_dir = os.path.expanduser(\"~/Documents/brainstormers\")\n",
    "os.makedirs(output_dir, exist_ok=True)\n",
    "fraud_counts.write.csv(os.path.join(output_dir, \"fraud_counts.csv\"), header=True)\n",
    "fraud_by_payment_type.write.csv(os.path.join(output_dir, \"fraud_by_payment_type.csv\"), header=True)\n",
    "avg_income_by_status.write.csv(os.path.join(output_dir, \"avg_income_by_status.csv\"), header=True)\n",
    "fraud_by_income.write.csv(os.path.join(output_dir, \"fraud_by_income.csv\"), header=True)\n",
    "fraud_by_age_group.write.csv(os.path.join(output_dir, \"fraud_by_age_group.csv\"), header=True)\n",
    "with open(os.path.join(output_dir, \"fraud_velocity_corr.txt\"), \"w\") as f:\n",
    "    f.write(f\"Correlation between fraud and velocity_6h: {fraud_velocity_corr}\\n\")\n",
    "\n",
    "\n"
   ]
  },
  {
   "cell_type": "code",
   "execution_count": null,
   "id": "d194abaa-32c2-4540-98a1-826bdd47600e",
   "metadata": {},
   "outputs": [],
   "source": []
  }
 ],
 "metadata": {
  "kernelspec": {
   "display_name": "Python 3 (ipykernel)",
   "language": "python",
   "name": "python3"
  },
  "language_info": {
   "codemirror_mode": {
    "name": "ipython",
    "version": 3
   },
   "file_extension": ".py",
   "mimetype": "text/x-python",
   "name": "python",
   "nbconvert_exporter": "python",
   "pygments_lexer": "ipython3",
   "version": "3.12.1"
  }
 },
 "nbformat": 4,
 "nbformat_minor": 5
}
